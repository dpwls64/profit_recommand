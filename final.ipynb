{
 "cells": [
  {
   "cell_type": "code",
   "execution_count": 226,
   "id": "subtle-public",
   "metadata": {},
   "outputs": [],
   "source": [
    "from sklearn.decomposition import TruncatedSVD\n",
    "from scipy.sparse.linalg import svds\n",
    "\n",
    "import matplotlib.pyplot as plt\n",
    "import seaborn as sns\n",
    "import pandas as pd\n",
    "import numpy as np\n",
    "import warnings\n",
    "warnings.filterwarnings(\"ignore\")"
   ]
  },
  {
   "cell_type": "code",
   "execution_count": 227,
   "id": "informal-automation",
   "metadata": {},
   "outputs": [],
   "source": [
    "import cx_Oracle \n",
    "from pandas import Series, DataFrame\n",
    "import pandas as pd\n",
    "import numpy as np"
   ]
  },
  {
   "cell_type": "code",
   "execution_count": 228,
   "id": "cleared-university",
   "metadata": {
    "scrolled": true
   },
   "outputs": [
    {
     "name": "stdout",
     "output_type": "stream",
     "text": [
      "   lesson_seq                        lesson_title\n",
      "0           6       어제 폭식했니? 급찐급빠로 이 언니가 모조리 혼내줄게\n",
      "1           4                         2강 박상빈의 이해 \n",
      "2           8                  7월 2일 테스트 강의 등록입니다\n",
      "3          10         빈디젤의 workout are U ready???\n",
      "4          11                    GYM 종국와 빈디젤의 콜라보\n",
      "5          12                      강아지와 함께하는 맨몸운동\n",
      "6          14                         내가바로JAYPARK\n",
      "7          15                    정신똑바로 차리세요 BBAM!\n",
      "8          16                    맨몸운동의 정석 : 코어의 힘\n",
      "9           2                               ddddd\n",
      "10         17                      사랑이와 필라테스의 세계로\n",
      "11         18                       누워서 먹기만한 그대에게\n",
      "12         19                            헬스는 백년운동\n",
      "13         20                             asdfsdf\n",
      "14         21  스트레스와 다이어트를 한번에 해결하는 all-in-one 운동\n",
      "15         23                       New 뉴 근육운동가이드\n"
     ]
    }
   ],
   "source": [
    "connection = cx_Oracle.connect('profit/java@192.168.41.6:1521/xe')\n",
    "cursor = connection.cursor()\n",
    "cursor.execute(\"\"\"\n",
    "        select a.lesson_seq, a.lesson_title\n",
    "        from lesson a, lesson_category b\n",
    "        where a.lesson_category_seq = b.lesson_category_seq(+)\n",
    "        and lesson_private_flag = 'N'\n",
    "        \"\"\")\n",
    "\n",
    "result = cursor.fetchall()\n",
    "lesson_data = pd.DataFrame(result)\n",
    "lesson_data.rename(columns = {0 : 'lesson_seq'}, inplace = True)\n",
    "lesson_data.rename(columns = {1 : 'lesson_title'}, inplace = True)\n",
    "print(lesson_data)"
   ]
  },
  {
   "cell_type": "code",
   "execution_count": 229,
   "id": "committed-colony",
   "metadata": {
    "scrolled": false
   },
   "outputs": [
    {
     "name": "stdout",
     "output_type": "stream",
     "text": [
      "   user_id lesson_seq  rating\n",
      "0   S00001          3     5.0\n",
      "1   S00001         14     5.0\n",
      "2   S00001         16     5.0\n",
      "3   S00001          8     5.0\n",
      "4   S00002         21     5.0\n",
      "..     ...        ...     ...\n",
      "64    a003         21     3.5\n",
      "65    a003         23     3.5\n",
      "66    a004         20     3.5\n",
      "67    a004         21     3.5\n",
      "68    a004         23     3.5\n",
      "\n",
      "[69 rows x 3 columns]\n"
     ]
    }
   ],
   "source": [
    "cursor.execute(\"\"\"\n",
    "        select in_user_id as user_id, lesson_seq, 5 as rating\n",
    "        from buy_lesson\n",
    "        where lesson_refund_flag = 'N'\n",
    "        \n",
    "        union all\n",
    "        \n",
    "        select user_id, lesson_seq, 2.5 as rating\n",
    "        from\n",
    "        (\n",
    "        select in_user_id as user_id, lesson_seq\n",
    "        from bookgood\n",
    "        where bookgood_flag = 'Y'\n",
    "        and bookgood_gubun = 'B'\n",
    "        and lesson_seq is not null\n",
    "        MINUS\n",
    "        select in_user_id as user_id, lesson_seq\n",
    "        from buy_lesson\n",
    "        where lesson_refund_flag = 'N'\n",
    "        MINUS\n",
    "        select in_user_id as user_id, lesson_seq\n",
    "        from bookgood\n",
    "        where bookgood_flag='Y'\n",
    "        and bookgood_gubun = 'G'\n",
    "        and lesson_seq is not null\n",
    "        )\n",
    "        \n",
    "        union all\n",
    "        \n",
    "        select user_id, lesson_seq, 2.5 as rating\n",
    "        from\n",
    "        (\n",
    "        select in_user_id as user_id, lesson_seq\n",
    "        from bookgood\n",
    "        where bookgood_flag='Y'\n",
    "        and bookgood_gubun = 'G'\n",
    "        and lesson_seq is not null\n",
    "        MINUS\n",
    "        select in_user_id as user_id, lesson_seq\n",
    "        from buy_lesson\n",
    "        where lesson_refund_flag = 'N'\n",
    "        MINUS\n",
    "        select in_user_id as user_id, lesson_seq\n",
    "        from bookgood\n",
    "        where bookgood_flag = 'Y'\n",
    "        and bookgood_gubun = 'B'\n",
    "        and lesson_seq is not null\n",
    "        )\n",
    "        \n",
    "        union all\n",
    "        \n",
    "        select user_id, lesson_seq, 3.5 as rating\n",
    "        from\n",
    "        (\n",
    "        select in_user_id as user_id, lesson_seq\n",
    "        from bookgood\n",
    "        where bookgood_flag='Y'\n",
    "        and bookgood_gubun = 'G'\n",
    "        and lesson_seq is not null\n",
    "        INTERSECT\n",
    "        select in_user_id as user_id, lesson_seq\n",
    "        from bookgood\n",
    "        where bookgood_flag = 'Y'\n",
    "        and bookgood_gubun = 'B'\n",
    "        and lesson_seq is not null\n",
    "        MINUS\n",
    "        select in_user_id as user_id, lesson_seq\n",
    "        from buy_lesson\n",
    "        where lesson_refund_flag = 'N'\n",
    "        )\n",
    "        \"\"\")\n",
    "\n",
    "result1 = cursor.fetchall()\n",
    "rating_data = pd.DataFrame(result1)\n",
    "rating_data.rename(columns = {0 : 'user_id'}, inplace = True)\n",
    "rating_data.rename(columns = {1 : 'lesson_seq'}, inplace = True)\n",
    "rating_data.rename(columns = {2 : 'rating'}, inplace = True)\n",
    "print(rating_data)"
   ]
  },
  {
   "cell_type": "code",
   "execution_count": 230,
   "id": "hydraulic-league",
   "metadata": {},
   "outputs": [
    {
     "data": {
      "text/html": [
       "<div>\n",
       "<style scoped>\n",
       "    .dataframe tbody tr th:only-of-type {\n",
       "        vertical-align: middle;\n",
       "    }\n",
       "\n",
       "    .dataframe tbody tr th {\n",
       "        vertical-align: top;\n",
       "    }\n",
       "\n",
       "    .dataframe thead th {\n",
       "        text-align: right;\n",
       "    }\n",
       "</style>\n",
       "<table border=\"1\" class=\"dataframe\">\n",
       "  <thead>\n",
       "    <tr style=\"text-align: right;\">\n",
       "      <th></th>\n",
       "      <th>user_id</th>\n",
       "      <th>lesson_seq</th>\n",
       "      <th>rating</th>\n",
       "    </tr>\n",
       "  </thead>\n",
       "  <tbody>\n",
       "    <tr>\n",
       "      <th>0</th>\n",
       "      <td>S00001</td>\n",
       "      <td>3</td>\n",
       "      <td>5.0</td>\n",
       "    </tr>\n",
       "    <tr>\n",
       "      <th>1</th>\n",
       "      <td>S00001</td>\n",
       "      <td>14</td>\n",
       "      <td>5.0</td>\n",
       "    </tr>\n",
       "    <tr>\n",
       "      <th>2</th>\n",
       "      <td>S00001</td>\n",
       "      <td>16</td>\n",
       "      <td>5.0</td>\n",
       "    </tr>\n",
       "    <tr>\n",
       "      <th>3</th>\n",
       "      <td>S00001</td>\n",
       "      <td>8</td>\n",
       "      <td>5.0</td>\n",
       "    </tr>\n",
       "    <tr>\n",
       "      <th>4</th>\n",
       "      <td>S00002</td>\n",
       "      <td>21</td>\n",
       "      <td>5.0</td>\n",
       "    </tr>\n",
       "  </tbody>\n",
       "</table>\n",
       "</div>"
      ],
      "text/plain": [
       "  user_id lesson_seq  rating\n",
       "0  S00001          3     5.0\n",
       "1  S00001         14     5.0\n",
       "2  S00001         16     5.0\n",
       "3  S00001          8     5.0\n",
       "4  S00002         21     5.0"
      ]
     },
     "execution_count": 230,
     "metadata": {},
     "output_type": "execute_result"
    }
   ],
   "source": [
    "rating_data.head()"
   ]
  },
  {
   "cell_type": "code",
   "execution_count": 231,
   "id": "convinced-adjustment",
   "metadata": {},
   "outputs": [
    {
     "data": {
      "text/html": [
       "<div>\n",
       "<style scoped>\n",
       "    .dataframe tbody tr th:only-of-type {\n",
       "        vertical-align: middle;\n",
       "    }\n",
       "\n",
       "    .dataframe tbody tr th {\n",
       "        vertical-align: top;\n",
       "    }\n",
       "\n",
       "    .dataframe thead th {\n",
       "        text-align: right;\n",
       "    }\n",
       "</style>\n",
       "<table border=\"1\" class=\"dataframe\">\n",
       "  <thead>\n",
       "    <tr style=\"text-align: right;\">\n",
       "      <th></th>\n",
       "      <th>lesson_seq</th>\n",
       "      <th>lesson_title</th>\n",
       "    </tr>\n",
       "  </thead>\n",
       "  <tbody>\n",
       "    <tr>\n",
       "      <th>0</th>\n",
       "      <td>6</td>\n",
       "      <td>어제 폭식했니? 급찐급빠로 이 언니가 모조리 혼내줄게</td>\n",
       "    </tr>\n",
       "    <tr>\n",
       "      <th>1</th>\n",
       "      <td>4</td>\n",
       "      <td>2강 박상빈의 이해</td>\n",
       "    </tr>\n",
       "    <tr>\n",
       "      <th>2</th>\n",
       "      <td>8</td>\n",
       "      <td>7월 2일 테스트 강의 등록입니다</td>\n",
       "    </tr>\n",
       "    <tr>\n",
       "      <th>3</th>\n",
       "      <td>10</td>\n",
       "      <td>빈디젤의 workout are U ready???</td>\n",
       "    </tr>\n",
       "    <tr>\n",
       "      <th>4</th>\n",
       "      <td>11</td>\n",
       "      <td>GYM 종국와 빈디젤의 콜라보</td>\n",
       "    </tr>\n",
       "  </tbody>\n",
       "</table>\n",
       "</div>"
      ],
      "text/plain": [
       "  lesson_seq                   lesson_title\n",
       "0          6  어제 폭식했니? 급찐급빠로 이 언니가 모조리 혼내줄게\n",
       "1          4                    2강 박상빈의 이해 \n",
       "2          8             7월 2일 테스트 강의 등록입니다\n",
       "3         10    빈디젤의 workout are U ready???\n",
       "4         11               GYM 종국와 빈디젤의 콜라보"
      ]
     },
     "execution_count": 231,
     "metadata": {},
     "output_type": "execute_result"
    }
   ],
   "source": [
    "lesson_data.head()"
   ]
  },
  {
   "cell_type": "code",
   "execution_count": 232,
   "id": "moral-march",
   "metadata": {},
   "outputs": [
    {
     "name": "stdout",
     "output_type": "stream",
     "text": [
      "(16, 2)\n",
      "(69, 3)\n"
     ]
    }
   ],
   "source": [
    "print(lesson_data.shape)\n",
    "print(rating_data.shape)"
   ]
  },
  {
   "cell_type": "code",
   "execution_count": 233,
   "id": "plastic-compatibility",
   "metadata": {},
   "outputs": [
    {
     "data": {
      "text/html": [
       "<div>\n",
       "<style scoped>\n",
       "    .dataframe tbody tr th:only-of-type {\n",
       "        vertical-align: middle;\n",
       "    }\n",
       "\n",
       "    .dataframe tbody tr th {\n",
       "        vertical-align: top;\n",
       "    }\n",
       "\n",
       "    .dataframe thead th {\n",
       "        text-align: right;\n",
       "    }\n",
       "</style>\n",
       "<table border=\"1\" class=\"dataframe\">\n",
       "  <thead>\n",
       "    <tr style=\"text-align: right;\">\n",
       "      <th></th>\n",
       "      <th>user_id</th>\n",
       "      <th>lesson_seq</th>\n",
       "      <th>rating</th>\n",
       "      <th>lesson_title</th>\n",
       "    </tr>\n",
       "  </thead>\n",
       "  <tbody>\n",
       "    <tr>\n",
       "      <th>0</th>\n",
       "      <td>S00001</td>\n",
       "      <td>14</td>\n",
       "      <td>5.0</td>\n",
       "      <td>내가바로JAYPARK</td>\n",
       "    </tr>\n",
       "    <tr>\n",
       "      <th>1</th>\n",
       "      <td>a002</td>\n",
       "      <td>14</td>\n",
       "      <td>3.5</td>\n",
       "      <td>내가바로JAYPARK</td>\n",
       "    </tr>\n",
       "    <tr>\n",
       "      <th>2</th>\n",
       "      <td>a003</td>\n",
       "      <td>14</td>\n",
       "      <td>3.5</td>\n",
       "      <td>내가바로JAYPARK</td>\n",
       "    </tr>\n",
       "    <tr>\n",
       "      <th>3</th>\n",
       "      <td>S00001</td>\n",
       "      <td>16</td>\n",
       "      <td>5.0</td>\n",
       "      <td>맨몸운동의 정석 : 코어의 힘</td>\n",
       "    </tr>\n",
       "    <tr>\n",
       "      <th>4</th>\n",
       "      <td>a002</td>\n",
       "      <td>16</td>\n",
       "      <td>3.5</td>\n",
       "      <td>맨몸운동의 정석 : 코어의 힘</td>\n",
       "    </tr>\n",
       "  </tbody>\n",
       "</table>\n",
       "</div>"
      ],
      "text/plain": [
       "  user_id lesson_seq  rating      lesson_title\n",
       "0  S00001         14     5.0       내가바로JAYPARK\n",
       "1    a002         14     3.5       내가바로JAYPARK\n",
       "2    a003         14     3.5       내가바로JAYPARK\n",
       "3  S00001         16     5.0  맨몸운동의 정석 : 코어의 힘\n",
       "4    a002         16     3.5  맨몸운동의 정석 : 코어의 힘"
      ]
     },
     "execution_count": 233,
     "metadata": {},
     "output_type": "execute_result"
    }
   ],
   "source": [
    "user_lesson_data = pd.merge(rating_data, lesson_data, on = 'lesson_seq')\n",
    "user_lesson_data.head()"
   ]
  },
  {
   "cell_type": "code",
   "execution_count": 234,
   "id": "sexual-costa",
   "metadata": {},
   "outputs": [
    {
     "data": {
      "text/plain": [
       "(65, 4)"
      ]
     },
     "execution_count": 234,
     "metadata": {},
     "output_type": "execute_result"
    }
   ],
   "source": [
    "user_lesson_data.shape"
   ]
  },
  {
   "cell_type": "code",
   "execution_count": 235,
   "id": "premier-creation",
   "metadata": {},
   "outputs": [],
   "source": [
    "user_lesson_rating = user_lesson_data.pivot_table('rating', index = 'user_id', columns='lesson_seq').fillna(0)"
   ]
  },
  {
   "cell_type": "code",
   "execution_count": 236,
   "id": "marine-killer",
   "metadata": {},
   "outputs": [
    {
     "data": {
      "text/plain": [
       "(16, 12)"
      ]
     },
     "execution_count": 236,
     "metadata": {},
     "output_type": "execute_result"
    }
   ],
   "source": [
    "user_lesson_rating.shape"
   ]
  },
  {
   "cell_type": "code",
   "execution_count": 237,
   "id": "manual-opinion",
   "metadata": {},
   "outputs": [
    {
     "data": {
      "text/plain": [
       "(16, 12)"
      ]
     },
     "execution_count": 237,
     "metadata": {},
     "output_type": "execute_result"
    }
   ],
   "source": [
    "user_lesson_rating.shape"
   ]
  },
  {
   "cell_type": "code",
   "execution_count": 238,
   "id": "bacterial-webster",
   "metadata": {},
   "outputs": [
    {
     "data": {
      "text/plain": [
       "(12, 16)"
      ]
     },
     "execution_count": 238,
     "metadata": {},
     "output_type": "execute_result"
    }
   ],
   "source": [
    "lesson_user_rating = user_lesson_rating.values.T\n",
    "lesson_user_rating.shape"
   ]
  },
  {
   "cell_type": "code",
   "execution_count": 239,
   "id": "smoking-paste",
   "metadata": {},
   "outputs": [
    {
     "data": {
      "text/plain": [
       "numpy.ndarray"
      ]
     },
     "execution_count": 239,
     "metadata": {},
     "output_type": "execute_result"
    }
   ],
   "source": [
    "type(lesson_user_rating)"
   ]
  },
  {
   "cell_type": "code",
   "execution_count": 240,
   "id": "homeless-brief",
   "metadata": {},
   "outputs": [
    {
     "data": {
      "text/plain": [
       "(12, 12)"
      ]
     },
     "execution_count": 240,
     "metadata": {},
     "output_type": "execute_result"
    }
   ],
   "source": [
    "SVD = TruncatedSVD(n_components=12)\n",
    "matrix = SVD.fit_transform(lesson_user_rating)\n",
    "matrix.shape"
   ]
  },
  {
   "cell_type": "code",
   "execution_count": 241,
   "id": "economic-sequence",
   "metadata": {},
   "outputs": [
    {
     "data": {
      "text/plain": [
       "array([ 7.48074308e-01, -1.71415496e+00,  8.72757660e-01,  8.05845185e-01,\n",
       "        5.20188945e-01, -5.72487879e-01, -5.21182862e-01, -4.50851242e-01,\n",
       "       -4.89235235e-01, -1.68454068e-01,  1.07132418e-17, -8.52818612e-32])"
      ]
     },
     "execution_count": 241,
     "metadata": {},
     "output_type": "execute_result"
    }
   ],
   "source": [
    "matrix[0]"
   ]
  },
  {
   "cell_type": "code",
   "execution_count": 242,
   "id": "infrared-editing",
   "metadata": {},
   "outputs": [
    {
     "data": {
      "text/plain": [
       "(12, 12)"
      ]
     },
     "execution_count": 242,
     "metadata": {},
     "output_type": "execute_result"
    }
   ],
   "source": [
    "corr = np.corrcoef(matrix)\n",
    "corr.shape"
   ]
  },
  {
   "cell_type": "code",
   "execution_count": 243,
   "id": "narrow-format",
   "metadata": {},
   "outputs": [
    {
     "data": {
      "text/plain": [
       "(12, 12)"
      ]
     },
     "execution_count": 243,
     "metadata": {},
     "output_type": "execute_result"
    }
   ],
   "source": [
    "corr2 = corr[:200, :200]\n",
    "corr2.shape"
   ]
  },
  {
   "cell_type": "code",
   "execution_count": 244,
   "id": "clean-addiction",
   "metadata": {},
   "outputs": [
    {
     "data": {
      "text/plain": [
       "<AxesSubplot:>"
      ]
     },
     "execution_count": 244,
     "metadata": {},
     "output_type": "execute_result"
    },
    {
     "data": {
      "image/png": "[encoded data removed]",
      "text/plain": [
       "<Figure size 1152x720 with 2 Axes>"
      ]
     },
     "metadata": {
      "needs_background": "light"
     },
     "output_type": "display_data"
    }
   ],
   "source": [
    "plt.figure(figsize=(16, 10))\n",
    "sns.heatmap(corr2)"
   ]
  },
  {
   "cell_type": "code",
   "execution_count": 245,
   "id": "sound-maine",
   "metadata": {},
   "outputs": [
    {
     "data": {
      "text/plain": [
       "['11', '14', '15', '16', '17', '18', '19', '2', '20', '21', '23', '8']"
      ]
     },
     "execution_count": 245,
     "metadata": {},
     "output_type": "execute_result"
    }
   ],
   "source": [
    "lesson_seq = user_lesson_rating.columns\n",
    "lesson_seq_list = list(lesson_seq)\n",
    "lesson_seq_list"
   ]
  },
  {
   "cell_type": "code",
   "execution_count": 246,
   "id": "hungarian-diagram",
   "metadata": {
    "scrolled": false
   },
   "outputs": [
    {
     "name": "stdout",
     "output_type": "stream",
     "text": [
      "[['16', '14', '20', '2', '18'], ['16', '20', '8', '11', '18'], ['18', '19', '17', '14', '21'], ['14', '8', '11', '20', '18'], ['18', '21', '19', '23', '2'], ['20', '23', '21', '17', '19'], ['18', '17', '20', '23', '15'], ['17', '11', '8', '21', '20'], ['18', '21', '14', '16', '8'], ['20', '18', '23', '17', '14'], ['18', '21', '17', '19', '14'], ['16', '14', '20', '2', '18']]\n"
     ]
    }
   ],
   "source": [
    "array = []\n",
    "for i in range(len(lesson_seq_list)):\n",
    "    coffey_hands = i\n",
    "    corr_coffey_hands  = corr[coffey_hands]\n",
    "    result_list = []\n",
    "    per = 0.9\n",
    "    while(per >= 0.1):\n",
    "        temp1 = list(lesson_seq[(corr_coffey_hands >= per)])[:50]\n",
    "        temp2 = list(lesson_seq[(corr_coffey_hands >= per-0.1)])[:50]\n",
    "        temp3 = list(set(temp2) - set(temp1))\n",
    "        cnt = 0\n",
    "        for j in temp3:\n",
    "            if len(result_list) < 5:\n",
    "                result_list.append(j)\n",
    "        per = per - 0.1\n",
    "        cnt = cnt + 1\n",
    "    array.append(result_list)\n",
    "print(array)"
   ]
  },
  {
   "cell_type": "code",
   "execution_count": 247,
   "id": "governing-newton",
   "metadata": {},
   "outputs": [
    {
     "data": {
      "text/plain": [
       "1"
      ]
     },
     "execution_count": 247,
     "metadata": {},
     "output_type": "execute_result"
    }
   ],
   "source": [
    "cursor.execute(\n",
    "        \"\"\"\n",
    "        select nvl(max(recommand_seq), 1)\n",
    "        from recommand\n",
    "        \"\"\")\n",
    "select = cursor.fetchall()\n",
    "select_value = pd.DataFrame(select)\n",
    "select_val = int(select_value.iloc[0][0])\n",
    "select_val"
   ]
  },
  {
   "cell_type": "code",
   "execution_count": 248,
   "id": "becoming-concentrate",
   "metadata": {
    "scrolled": true
   },
   "outputs": [],
   "source": [
    "for i in range(len(array)):\n",
    "    for j in range(len(array[i])):\n",
    "        cursor.execute(\n",
    "        \"\"\"\n",
    "        insert into recommand(recommand_seq, recommand_detail_seq,\n",
    "        lesson_seq, in_date)\n",
    "        values\n",
    "        (\n",
    "        :rSeq, :rdSeq, :lessonSeq, sysdate)\n",
    "        \"\"\"\n",
    "        ,rSeq = select_val, rdSeq = array[i][j],lessonSeq = lesson_seq_list[i])\n",
    "        connection.commit()\n",
    "        select_val = select_val + 1\n",
    "        connection.commit()\n"
   ]
  }
 ],
 "metadata": {
  "kernelspec": {
   "display_name": "Python 3",
   "language": "python",
   "name": "python3"
  },
  "language_info": {
   "codemirror_mode": {
    "name": "ipython",
    "version": 3
   },
   "file_extension": ".py",
   "mimetype": "text/x-python",
   "name": "python",
   "nbconvert_exporter": "python",
   "pygments_lexer": "ipython3",
   "version": "3.8.5"
  }
 },
 "nbformat": 4,
 "nbformat_minor": 5
}
